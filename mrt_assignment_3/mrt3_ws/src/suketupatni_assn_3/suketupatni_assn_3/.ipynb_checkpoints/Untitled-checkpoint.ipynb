{
 "cells": [
  {
   "cell_type": "code",
   "execution_count": 11,
   "id": "d630b718-3fbd-464e-aab1-1f77f5a79293",
   "metadata": {},
   "outputs": [
    {
     "name": "stdout",
     "output_type": "stream",
     "text": [
      "(480, 640, 3)\n"
     ]
    }
   ],
   "source": [
    "import cv2\n",
    "import numpy as np\n",
    "\n",
    "webcam = cv2.VideoCapture(0)\n",
    "\n",
    "_check, frame = webcam.read()\n",
    "print(frame.shape)\n",
    "cv2.imshow(\"Original\", frame)\n",
    "wait = cv2.waitKey(5000)\n",
    "cv2.destroyAllWindows()\n",
    "\n",
    "(row, col) = frame.shape[:2]\n",
    "# img \n",
    "grey_trial = np.zeros(frame.shape)\n",
    "\n",
    "for i in range(row):\n",
    "    for j in range(col):\n",
    "        avg = sum(frame[i][j]) * 0.33\n",
    "        grey_trial[i][j] = [avg, avg, avg]\n",
    "        # print()\n",
    "\n",
    "cv2.imshow(\"GreyScale\", grey_trial)\n",
    "wait = cv2.waitKey(6000)\n",
    "cv2.destroyAllWindows()\n",
    "# print(check) #prints true as long as the webcam is running\n",
    "# print(frame) #prints matrix values of each framecd \n",
    "# cv2.imshow(\"Original\", frame)\n",
    "# wait = cv2.waitKey(2000)\n",
    "\n",
    "# canny edge detection - first convert to greyscale\n",
    "\n",
    "# grey = cv2.cvtColor(frame, cv2.COLOR_BGR2GRAY)\n",
    "# print(frame, grey)\n",
    "# print(frame[0], \"\\nnigga\\n\", grey[0])\n",
    "# grey_in_3d = np.atleast_3d(grey)\n",
    "# print(frame.type(), grey.type())\n",
    "# hstacked = cv2.hconcat([frame, grey])\n",
    "# cv2.imshow(\"Greyscale\", hstacked)\n",
    "# wait = cv2.waitKey(2000)\n",
    "# cv2.destroyAllWindows()"
   ]
  }
 ],
 "metadata": {
  "kernelspec": {
   "display_name": "Python 3 (ipykernel)",
   "language": "python",
   "name": "python3"
  },
  "language_info": {
   "codemirror_mode": {
    "name": "ipython",
    "version": 3
   },
   "file_extension": ".py",
   "mimetype": "text/x-python",
   "name": "python",
   "nbconvert_exporter": "python",
   "pygments_lexer": "ipython3",
   "version": "3.10.12"
  }
 },
 "nbformat": 4,
 "nbformat_minor": 5
}
