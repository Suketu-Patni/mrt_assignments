{
 "cells": [
  {
   "cell_type": "code",
   "execution_count": 2,
   "id": "d68180f9-bb99-49c0-b498-c077bca48a50",
   "metadata": {},
   "outputs": [],
   "source": [
    "import cv2 as cv"
   ]
  },
  {
   "cell_type": "code",
   "execution_count": 3,
   "id": "2716a837-953d-4b3c-86c4-24aa0f0bc13e",
   "metadata": {},
   "outputs": [],
   "source": [
    "video = cv.VideoCapture('DSC_1797.mp4')"
   ]
  },
  {
   "cell_type": "code",
   "execution_count": 4,
   "id": "3949e0a7-e683-448c-9eaf-78c22981deca",
   "metadata": {},
   "outputs": [
    {
     "name": "stdout",
     "output_type": "stream",
     "text": [
      "frames per second = 23.976023976023978\n"
     ]
    }
   ],
   "source": [
    "fps = video.get(cv2.CAP_PROP_FPS)\n",
    "print('frames per second =',fps)"
   ]
  },
  {
   "cell_type": "code",
   "execution_count": 5,
   "id": "a92befe7-47fc-4805-b53a-40b2b6a8b01f",
   "metadata": {},
   "outputs": [],
   "source": [
    "fourcc = cv.VideoWriter_fourcc(*'mp4v')"
   ]
  }
 ],
 "metadata": {
  "kernelspec": {
   "display_name": "Python 3 (ipykernel)",
   "language": "python",
   "name": "python3"
  },
  "language_info": {
   "codemirror_mode": {
    "name": "ipython",
    "version": 3
   },
   "file_extension": ".py",
   "mimetype": "text/x-python",
   "name": "python",
   "nbconvert_exporter": "python",
   "pygments_lexer": "ipython3",
   "version": "3.10.12"
  }
 },
 "nbformat": 4,
 "nbformat_minor": 5
}
