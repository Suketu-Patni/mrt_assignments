{
 "cells": [
  {
   "cell_type": "code",
   "execution_count": 65,
   "id": "2154493e-6f08-47c1-978a-0c455551898f",
   "metadata": {},
   "outputs": [],
   "source": [
    "import cv2\n",
    "import numpy as np\n",
    "# from shapely.geometry import Point\n",
    "# from shapely.geometry.polygon import Polygon"
   ]
  },
  {
   "cell_type": "code",
   "execution_count": 66,
   "id": "9eff4f1c-d925-47ea-87de-03e4b2126ada",
   "metadata": {},
   "outputs": [],
   "source": [
    "arucoDict = cv2.aruco.getPredefinedDictionary(cv2.aruco.DICT_4X4_250)\n",
    "parameters =  cv2.aruco.DetectorParameters()\n",
    "detector = cv2.aruco.ArucoDetector(arucoDict, parameters)\n",
    "\n",
    "image = cv2.imread(\"4x4_riyal.png\")\n",
    "(corners_ndarray, ids, rejectedCandidates) = detector.detectMarkers(image)"
   ]
  },
  {
   "cell_type": "code",
   "execution_count": 67,
   "id": "2cc9959e-40ee-4867-8933-c2e7d9b4005e",
   "metadata": {},
   "outputs": [],
   "source": [
    "corners = []\n",
    "for corner in corners_ndarray:\n",
    "    corners.extend([int(j) for j in corner.flatten()])"
   ]
  },
  {
   "cell_type": "code",
   "execution_count": 46,
   "id": "b3808beb-ea27-470e-b341-99eefdb7749d",
   "metadata": {},
   "outputs": [
    {
     "data": {
      "text/plain": [
       "(941, 2038, 3)"
      ]
     },
     "execution_count": 46,
     "metadata": {},
     "output_type": "execute_result"
    }
   ],
   "source": [
    "image.shape"
   ]
  },
  {
   "cell_type": "code",
   "execution_count": 72,
   "id": "8ae96bae-7c75-49ef-b4ba-fe4aca9eccb3",
   "metadata": {},
   "outputs": [
    {
     "name": "stdout",
     "output_type": "stream",
     "text": [
      "[1687, 387, 1893, 341, 1947, 535, 1733, 572, 1018, 386, 1188, 423, 1156, 596, 984, 560, 676, 420, 831, 422, 820, 596, 651, 591]\n"
     ]
    }
   ],
   "source": [
    "# corners = [160, 283, 229, 283, 229, 352, 160, 352, 454, 675, 523, 675, 523, 744, 454, 744, 62, 87, 131, 87, 131, 156, 62, 156, 160, 87, 229, 87, 229, 156, 160, 156, 258, 87, 327, 87, 327, 156, 258, 156, 356, 87, 425, 87, 425, 156, 356, 156, 454, 283, 523, 283, 523, 352, 454, 352, 356, 283, 425, 283, 425, 352, 356, 352, 258, 283, 327, 283, 327, 352, 258, 352, 356, 675, 425, 675, 425, 744, 356, 744, 62, 283, 131, 283, 131, 352, 62, 352, 454, 87, 523, 87, 523, 156, 454, 156, 454, 185, 523, 185, 523, 254, 454, 254, 356, 185, 425, 185, 425, 254, 356, 254, 258, 185, 327, 185, 327, 254, 258, 254, 160, 185, 229, 185, 229, 254, 160, 254, 62, 185, 131, 185, 131, 254, 62, 254, 258, 381, 327, 381, 327, 450, 258, 450, 258, 479, 327, 479, 327, 548, 258, 548, 356, 479, 425, 479, 425, 548, 356, 548, 454, 479, 523, 479, 523, 548, 454, 548, 62, 577, 131, 577, 131, 646, 62, 646, 160, 577, 229, 577, 229, 646, 160, 646, 258, 577, 327, 577, 327, 646, 258, 646, 454, 381, 523, 381, 523, 450, 454, 450, 356, 381, 425, 381, 425, 450, 356, 450, 160, 381, 229, 381, 229, 450, 160, 450, 62, 381, 131, 381, 131, 450, 62, 450, 356, 577, 425, 577, 425, 646, 356, 646, 454, 577, 523, 577, 523, 646, 454, 646, 62, 675, 131, 675, 131, 744, 62, 744, 160, 675, 229, 675, 229, 744, 160, 744, 258, 675, 327, 675, 327, 744, 258, 744, 62, 479, 131, 479, 131, 548, 62, 548, 160, 479, 229, 479, 229, 548, 160, 548]\n",
    "print(corners)"
   ]
  },
  {
   "cell_type": "code",
   "execution_count": 13,
   "id": "54a4aed4-d8c8-49c9-ae71-bf3f5485d8d8",
   "metadata": {},
   "outputs": [
    {
     "data": {
      "text/plain": [
       "37.0"
      ]
     },
     "execution_count": 13,
     "metadata": {},
     "output_type": "execute_result"
    }
   ],
   "source": [
    "len(corners)/8"
   ]
  },
  {
   "cell_type": "code",
   "execution_count": null,
   "id": "b6359a5a-2c07-4cd3-859a-e71d5d726b7f",
   "metadata": {},
   "outputs": [],
   "source": [
    "corners[8:16]"
   ]
  },
  {
   "cell_type": "code",
   "execution_count": 68,
   "id": "211f2496-0a62-4462-92e3-02885d695d58",
   "metadata": {},
   "outputs": [],
   "source": [
    "num_boxes = len(corners)//8\n",
    "boxes_list = list()\n",
    "for i in range(num_boxes):\n",
    "    cornerset = corners[8*i:8*i+8]\n",
    "    v1 = (cornerset[1], cornerset[0])\n",
    "    v2 = (cornerset[3], cornerset[2])\n",
    "    v3 = (cornerset[5], cornerset[4])\n",
    "    v4 = (cornerset[7], cornerset[6])\n",
    "    # v1 and v4 have same abscissa\n",
    "    # v2 and v3 have same abscissa\n",
    "    box = (v1, v2, v3, v4)\n",
    "    boxes_list.append(box)"
   ]
  },
  {
   "cell_type": "code",
   "execution_count": 73,
   "id": "30a52c79-2631-4f84-9850-59cbd339acdd",
   "metadata": {},
   "outputs": [
    {
     "name": "stdout",
     "output_type": "stream",
     "text": [
      "[((387, 1687), (341, 1893), (535, 1947), (572, 1733)), ((386, 1018), (423, 1188), (596, 1156), (560, 984)), ((420, 676), (422, 831), (596, 820), (591, 651))]\n"
     ]
    }
   ],
   "source": [
    "print(boxes_list)"
   ]
  },
  {
   "cell_type": "code",
   "execution_count": 76,
   "id": "e826394c-3ab3-440b-bf6b-e0129ecca795",
   "metadata": {},
   "outputs": [],
   "source": [
    "def generate_image(img_shape, boxes):\n",
    "    # ((577, 62), (577, 131), (646, 131), (646, 62))\n",
    "    image = np.ones(img_shape, dtype=np.int32)*255\n",
    "    \n",
    "    for box in boxes:\n",
    "        # print(box)\n",
    "        # list(box)\n",
    "        # polygon = Polygon(list(box))\n",
    "        # v1, v2, v3, v4 = box\n",
    "        vertex_array = np.array([[v[1], v[0]] for v in box])\n",
    "        print(vertex_array)\n",
    "\n",
    "        cv2.fillPoly(image, [vertex_array], 0)\n",
    "\n",
    "    return image"
   ]
  },
  {
   "cell_type": "code",
   "execution_count": 77,
   "id": "524d9bad-8183-401a-809f-d84fb84a97c3",
   "metadata": {},
   "outputs": [
    {
     "name": "stdout",
     "output_type": "stream",
     "text": [
      "[[1687  387]\n",
      " [1893  341]\n",
      " [1947  535]\n",
      " [1733  572]]\n",
      "[[1018  386]\n",
      " [1188  423]\n",
      " [1156  596]\n",
      " [ 984  560]]\n",
      "[[676 420]\n",
      " [831 422]\n",
      " [820 596]\n",
      " [651 591]]\n"
     ]
    }
   ],
   "source": [
    "\n",
    "img = generate_image((941, 2038), boxes_list)"
   ]
  },
  {
   "cell_type": "code",
   "execution_count": null,
   "id": "23f5152b-74b8-40e0-90c6-53a66bf783bf",
   "metadata": {},
   "outputs": [],
   "source": [
    "type(img)"
   ]
  },
  {
   "cell_type": "code",
   "execution_count": null,
   "id": "e500dcef-52a8-43e2-a0a5-270e7221c31d",
   "metadata": {},
   "outputs": [],
   "source": [
    "print(0 in img)"
   ]
  },
  {
   "cell_type": "code",
   "execution_count": 78,
   "id": "49451e04-92c9-4126-b6f9-d3a2a22d05c9",
   "metadata": {},
   "outputs": [
    {
     "data": {
      "text/plain": [
       "True"
      ]
     },
     "execution_count": 78,
     "metadata": {},
     "output_type": "execute_result"
    }
   ],
   "source": [
    "# image = np.ones((842, 595), dtype=np.int32) * 255\n",
    "cv2.imwrite(\"trial.jpg\", img)\n",
    "# cv2.imshow(\"trial\", img)\n",
    "# cv2.waitKey(5000)\n",
    "# cv2.destroyWindow(\"trial\")\n"
   ]
  },
  {
   "cell_type": "code",
   "execution_count": null,
   "id": "dc43dbae-bab3-45d5-ae21-cdc1f252c4f6",
   "metadata": {},
   "outputs": [],
   "source": [
    "print(corners,\" space \")"
   ]
  },
  {
   "cell_type": "code",
   "execution_count": null,
   "id": "ddbf0f2f-a7e5-4677-bfbd-5a6eeab2ac80",
   "metadata": {},
   "outputs": [],
   "source": [
    "print(ids.flatten())"
   ]
  },
  {
   "cell_type": "code",
   "execution_count": null,
   "id": "415d4ad7-c90e-491e-8d9f-9c59e751c3e8",
   "metadata": {},
   "outputs": [],
   "source": []
  }
 ],
 "metadata": {
  "kernelspec": {
   "display_name": "Python 3 (ipykernel)",
   "language": "python",
   "name": "python3"
  },
  "language_info": {
   "codemirror_mode": {
    "name": "ipython",
    "version": 3
   },
   "file_extension": ".py",
   "mimetype": "text/x-python",
   "name": "python",
   "nbconvert_exporter": "python",
   "pygments_lexer": "ipython3",
   "version": "3.10.12"
  }
 },
 "nbformat": 4,
 "nbformat_minor": 5
}
